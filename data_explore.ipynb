{
 "cells": [
  {
   "cell_type": "code",
   "execution_count": 1,
   "id": "a348503f-657f-4970-b561-e6604fe5ab45",
   "metadata": {},
   "outputs": [],
   "source": [
    "import concurrent.futures\n",
    "import json\n",
    "import logging\n",
    "import math\n",
    "import os.path\n",
    "import time\n",
    "from os import listdir\n",
    "\n",
    "import numpy as np\n",
    "import pandas as pd\n",
    "import pyarrow as pa\n",
    "import pyarrow.parquet as pq\n",
    "from binance.client import Client\n",
    "from binance.exceptions import BinanceAPIException, BinanceRequestException"
   ]
  },
  {
   "cell_type": "markdown",
   "id": "5054d4e0-1e35-4365-946b-4834efd62a9b",
   "metadata": {},
   "source": [
    "# Prep some helpful functions and const to explore data."
   ]
  },
  {
   "cell_type": "code",
   "execution_count": 2,
   "id": "6e58fca7-de78-404c-aec1-664c1cff2474",
   "metadata": {},
   "outputs": [],
   "source": [
    "PARQUETFOLDERNAME  = \"dataset\"\n",
    "\n",
    "pa_type = [\n",
    "    pa.timestamp(\"ms\"),\n",
    "    pa.float32(),\n",
    "    pa.float32(),\n",
    "    pa.float32(),\n",
    "    pa.float32(),\n",
    "    pa.float32(),\n",
    "    pa.timestamp(\"ms\"),\n",
    "    pa.float32(),\n",
    "    pa.uint16(),\n",
    "    pa.float32(),\n",
    "    pa.float32(),\n",
    "    pa.float32(),\n",
    "]\n",
    "\n",
    "pa_names = [\n",
    "    \"open_time\",\n",
    "    \"open\",\n",
    "    \"high\",\n",
    "    \"low\",\n",
    "    \"close\",\n",
    "    \"volume\",\n",
    "    \"close_time\",\n",
    "    \"quote_asset_volume\",\n",
    "    \"number_of_trades\",\n",
    "    \"taker_buy_base_asset_volume\",\n",
    "    \"taker_buy_quote_asset_volume\",\n",
    "    \"ignore\",\n",
    "]\n",
    "\n",
    "pa_field = [pa.field(g[0], g[1]) for g in zip(pa_names, pa_type)]\n",
    "pa_schema = pa.schema(pa_field)"
   ]
  },
  {
   "cell_type": "code",
   "execution_count": 3,
   "id": "3d2d3271-678b-4861-8add-4c0f1a53f0a2",
   "metadata": {},
   "outputs": [
    {
     "data": {
      "text/plain": [
       "open_time: timestamp[ms]\n",
       "open: float\n",
       "high: float\n",
       "low: float\n",
       "close: float\n",
       "volume: float\n",
       "close_time: timestamp[ms]\n",
       "quote_asset_volume: float\n",
       "number_of_trades: uint16\n",
       "taker_buy_base_asset_volume: float\n",
       "taker_buy_quote_asset_volume: float\n",
       "ignore: float"
      ]
     },
     "execution_count": 3,
     "metadata": {},
     "output_type": "execute_result"
    }
   ],
   "source": [
    "pa_schema"
   ]
  },
  {
   "cell_type": "code",
   "execution_count": 4,
   "id": "9bfd4cde-711b-4c09-b25d-71d4f36db201",
   "metadata": {},
   "outputs": [],
   "source": [
    "def _get_klines(self, sym, start, end=None):\n",
    "    \"Update given symbol pair and returns a pyarrow table of the klines.\"\n",
    "    # Request\n",
    "    response = self.binance_client.get_klines(\n",
    "        symbol=sym, interval=Client.KLINE_INTERVAL_1MINUTE, limit=1000, startTime=start\n",
    "    )\n",
    "    updatedPart = pd.DataFrame(response, columns=self.LABELS)\n",
    "    updatedPart = updatedPart.astype(self.DATATYPES)\n",
    "    # Drop useless columns\n",
    "    updatedPart.drop([\"close_time\", \"ignore\"], axis=1, inplace=True)\n",
    "    # convert to pyarrow table and return.\n",
    "    return pa.Table.from_pandas(updatedPart)\n",
    "\n",
    "\n",
    "def transpose_list(ll):\n",
    "    \"Given a list of list, transpose the list. I.e list of rows turns to a list of columns.\"\n",
    "    return [list(row) for row in zip(*ll)]\n",
    "\n",
    "def get_saved_parquet(sym_pair):\n",
    "    \"Gets saved historical parquet data or create new file and return it.\"\n",
    "    filename = f\"{sym_pair[0]}-{sym_pair[1]}.parquet\"\n",
    "    filepath = f\"./{PARQUETFOLDERNAME}/{filename}\"\n",
    "    logging.info(f\"Reading in parquet file: {filepath}\")\n",
    "    if os.path.exists(filepath):\n",
    "        try:\n",
    "            ret = pq.read_table(filepath)\n",
    "            return ret\n",
    "        except:\n",
    "            # Unable to read file, probably corrupted. Delete file.\n",
    "            remove(filepath)\n",
    "    # Create empty pa table.\n",
    "    tb = self._to_pa_table([])\n",
    "    self._write_parquet(sym_pair, tb, timestamp=\"ms\")\n",
    "    return tb\n",
    "\n",
    "\n",
    "def write_parquet(sym_pair, pa_tb, append=\"\", timestamp=None):\n",
    "    \"Save a parquet file to disk using Pyarrow.\"\n",
    "    filename = f\"{sym_pair[0]}-{sym_pair[1]}{append}.parquet\"\n",
    "    logging.info(\"Saving as: \" + filename)\n",
    "    filepath = f\"./{PARQUETFOLDERNAME}/{filename}\"\n",
    "    pq.write_table(pa_tb, filepath, coerce_timestamps=timestamp)"
   ]
  },
  {
   "cell_type": "markdown",
   "id": "83f8d68f-8334-4ca5-8671-5554b74e82d0",
   "metadata": {},
   "source": [
    "# Setup data and client for TUSDB TUSD"
   ]
  },
  {
   "cell_type": "code",
   "execution_count": 5,
   "id": "47c6bcff-f2db-42f9-a0db-3c9b99765a2b",
   "metadata": {},
   "outputs": [],
   "source": [
    "sym = \"AAVEBKRW\"\n",
    "sym_p = (\"AAVE\", \"BKRW\")\n",
    "start = 631152000000\n",
    "binance_client = Client()"
   ]
  },
  {
   "cell_type": "markdown",
   "id": "457fa41c-6dfc-4b71-be5b-8a6bc5de6824",
   "metadata": {},
   "source": [
    "# Make call to binance using python package"
   ]
  },
  {
   "cell_type": "code",
   "execution_count": 6,
   "id": "bdd4f846-46c2-445a-8dda-59371a374b14",
   "metadata": {},
   "outputs": [],
   "source": [
    "response = binance_client.get_klines(\n",
    "    symbol=sym, interval=Client.KLINE_INTERVAL_1MINUTE, limit=1000, startTime=start\n",
    ")"
   ]
  },
  {
   "cell_type": "markdown",
   "id": "eed19b72-99a2-40e4-8597-5400dae45acf",
   "metadata": {},
   "source": [
    "# Data\n",
    "Data comes in as a list of a single row of data corresponding to the LABEL"
   ]
  },
  {
   "cell_type": "markdown",
   "id": "22535f79-5753-4fcd-bd5d-4fef8546330d",
   "metadata": {},
   "source": [
    "One row of data"
   ]
  },
  {
   "cell_type": "code",
   "execution_count": 7,
   "id": "8ee8c64f-8a81-4569-b33d-74e2986259fd",
   "metadata": {},
   "outputs": [
    {
     "data": {
      "text/plain": [
       "[[1602730800000,\n",
       "  '57946.00000000',\n",
       "  '66002.00000000',\n",
       "  '57946.00000000',\n",
       "  '66002.00000000',\n",
       "  '2.05500000',\n",
       "  1602730859999,\n",
       "  '135472.99000000',\n",
       "  2,\n",
       "  '2.05500000',\n",
       "  '135472.99000000',\n",
       "  '0']]"
      ]
     },
     "execution_count": 7,
     "metadata": {},
     "output_type": "execute_result"
    }
   ],
   "source": [
    "response[0:1]"
   ]
  },
  {
   "cell_type": "markdown",
   "id": "96011f3a-0246-4e3a-8873-ef843be3b5d6",
   "metadata": {},
   "source": [
    "List of rows needs to be transposed into list of columns to then create a Pyarrow table"
   ]
  },
  {
   "cell_type": "code",
   "execution_count": 8,
   "id": "95375b08-bfc6-4268-aa69-283f0e2d947c",
   "metadata": {},
   "outputs": [],
   "source": [
    "list_of_cols = transpose_list(response)"
   ]
  },
  {
   "cell_type": "markdown",
   "id": "de20db20-bbd6-416a-9bab-0bf4b52c4572",
   "metadata": {},
   "source": [
    "One row of data"
   ]
  },
  {
   "cell_type": "code",
   "execution_count": 9,
   "id": "e2abc0c9-1bc7-43e9-b663-9c9faf037176",
   "metadata": {},
   "outputs": [
    {
     "data": {
      "text/plain": [
       "[[1602730800000],\n",
       " ['57946.00000000'],\n",
       " ['66002.00000000'],\n",
       " ['57946.00000000'],\n",
       " ['66002.00000000'],\n",
       " ['2.05500000'],\n",
       " [1602730859999],\n",
       " ['135472.99000000'],\n",
       " [2],\n",
       " ['2.05500000'],\n",
       " ['135472.99000000'],\n",
       " ['0']]"
      ]
     },
     "execution_count": 9,
     "metadata": {},
     "output_type": "execute_result"
    }
   ],
   "source": [
    "[col[0:1] for col in list_of_cols]"
   ]
  },
  {
   "cell_type": "markdown",
   "id": "1a488534-cf77-41ff-bf22-60a3c8456b51",
   "metadata": {},
   "source": [
    "Take each col and create a pyarrow column then make a table of it. Data needs to be converted from string to a number. Float works fine for all."
   ]
  },
  {
   "cell_type": "code",
   "execution_count": 10,
   "id": "6e426fae-6ac3-451d-865e-d31df291f6a4",
   "metadata": {},
   "outputs": [],
   "source": [
    "pa_cols = [pa.array([float(data) for data in list_of_cols[n]], pa_type[n]) for n in range(0,len(pa_type)) ]"
   ]
  },
  {
   "cell_type": "code",
   "execution_count": 11,
   "id": "0c2bc791-6283-4a16-9612-ed17a7b20225",
   "metadata": {},
   "outputs": [],
   "source": [
    "pa_table = pa.table(pa_cols, schema=pa_schema)"
   ]
  },
  {
   "cell_type": "code",
   "execution_count": 12,
   "id": "922d93a5-c474-4fa0-b664-b30ff5209257",
   "metadata": {},
   "outputs": [],
   "source": [
    "try:\n",
    "    pa_table = pa_table.drop([\"close_time\",\"ignore\"])\n",
    "except:\n",
    "    pass"
   ]
  },
  {
   "cell_type": "code",
   "execution_count": 13,
   "id": "560bee1a-3594-41fe-beec-0e072c434700",
   "metadata": {},
   "outputs": [
    {
     "data": {
      "text/plain": [
       "pyarrow.Table\n",
       "open_time: timestamp[ms]\n",
       "open: float\n",
       "high: float\n",
       "low: float\n",
       "close: float\n",
       "volume: float\n",
       "quote_asset_volume: float\n",
       "number_of_trades: uint16\n",
       "taker_buy_base_asset_volume: float\n",
       "taker_buy_quote_asset_volume: float\n",
       "----\n",
       "open_time: [[2020-10-15 03:00:00.000,2020-10-15 03:01:00.000,2020-10-15 03:02:00.000,2020-10-15 03:03:00.000,2020-10-15 03:04:00.000,2020-10-15 03:05:00.000,2020-10-15 03:06:00.000,2020-10-15 03:07:00.000,2020-10-15 03:08:00.000,2020-10-15 03:09:00.000,...,2020-10-15 19:30:00.000,2020-10-15 19:31:00.000,2020-10-15 19:32:00.000,2020-10-15 19:33:00.000,2020-10-15 19:34:00.000,2020-10-15 19:35:00.000,2020-10-15 19:36:00.000,2020-10-15 19:37:00.000,2020-10-15 19:38:00.000,2020-10-15 19:39:00.000]]\n",
       "open: [[57946,299997,299997,54110,21109,59215,59215,59215,59215,52917,...,55047,55047,55047,55047,55047,55047,55047,55047,55047,55047]]\n",
       "high: [[66002,299997,299997,54110,21109,59215,59215,59215,59215,52917,...,55047,55047,55047,55047,55047,55047,55047,55047,55047,55047]]\n",
       "low: [[57946,299997,299997,21109,21109,59215,59215,59215,52917,52917,...,55047,55047,55047,55047,55047,55047,55047,55047,55047,55047]]\n",
       "close: [[66002,299997,299997,21109,21109,59215,59215,59215,52917,52917,...,55047,55047,55047,55047,55047,55047,55047,55047,55047,55047]]\n",
       "volume: [[2.055,0.005,0,17.631,0,1.069,0,0,0.886,0,...,0,0,0,0,0,0,0,0,0,0]]\n",
       "quote_asset_volume: [[135472.98,1499.985,0,694642.94,0,63300.836,0,0,50008.27,0,...,0,0,0,0,0,0,0,0,0,0]]\n",
       "number_of_trades: [[2,1,0,8,0,1,0,0,2,0,...,0,0,0,0,0,0,0,0,0,0]]\n",
       "taker_buy_base_asset_volume: [[2.055,0.005,0,0,0,1.069,0,0,0,0,...,0,0,0,0,0,0,0,0,0,0]]\n",
       "taker_buy_quote_asset_volume: [[135472.98,1499.985,0,0,0,63300.836,0,0,0,0,...,0,0,0,0,0,0,0,0,0,0]]"
      ]
     },
     "execution_count": 13,
     "metadata": {},
     "output_type": "execute_result"
    }
   ],
   "source": [
    "pa_table"
   ]
  },
  {
   "cell_type": "markdown",
   "id": "f0669773-942a-42d4-a252-469c18b24633",
   "metadata": {},
   "source": [
    "# Table can then be used to concat with existing data by reading in file. As well as creating graphs and charts."
   ]
  },
  {
   "cell_type": "code",
   "execution_count": 14,
   "id": "06a9cf20-a6be-47fd-8c59-dbd12d82dce4",
   "metadata": {},
   "outputs": [],
   "source": [
    "write_parquet(sym_p, pa_table)"
   ]
  },
  {
   "cell_type": "code",
   "execution_count": 15,
   "id": "46514cfc-70bc-4005-be32-c8daec7a8ddd",
   "metadata": {},
   "outputs": [],
   "source": [
    "read_table = get_saved_parquet(sym_p)"
   ]
  },
  {
   "cell_type": "code",
   "execution_count": 16,
   "id": "d8b12b95-3b56-4056-af2f-c7ec0abdb035",
   "metadata": {},
   "outputs": [
    {
     "data": {
      "text/plain": [
       "pyarrow.Table\n",
       "open_time: timestamp[ms]\n",
       "open: float\n",
       "high: float\n",
       "low: float\n",
       "close: float\n",
       "volume: float\n",
       "quote_asset_volume: float\n",
       "number_of_trades: uint16\n",
       "taker_buy_base_asset_volume: float\n",
       "taker_buy_quote_asset_volume: float\n",
       "----\n",
       "open_time: [[2020-10-15 03:00:00.000,2020-10-15 03:01:00.000,2020-10-15 03:02:00.000,2020-10-15 03:03:00.000,2020-10-15 03:04:00.000,2020-10-15 03:05:00.000,2020-10-15 03:06:00.000,2020-10-15 03:07:00.000,2020-10-15 03:08:00.000,2020-10-15 03:09:00.000,...,2020-10-15 19:30:00.000,2020-10-15 19:31:00.000,2020-10-15 19:32:00.000,2020-10-15 19:33:00.000,2020-10-15 19:34:00.000,2020-10-15 19:35:00.000,2020-10-15 19:36:00.000,2020-10-15 19:37:00.000,2020-10-15 19:38:00.000,2020-10-15 19:39:00.000]]\n",
       "open: [[57946,299997,299997,54110,21109,59215,59215,59215,59215,52917,...,55047,55047,55047,55047,55047,55047,55047,55047,55047,55047]]\n",
       "high: [[66002,299997,299997,54110,21109,59215,59215,59215,59215,52917,...,55047,55047,55047,55047,55047,55047,55047,55047,55047,55047]]\n",
       "low: [[57946,299997,299997,21109,21109,59215,59215,59215,52917,52917,...,55047,55047,55047,55047,55047,55047,55047,55047,55047,55047]]\n",
       "close: [[66002,299997,299997,21109,21109,59215,59215,59215,52917,52917,...,55047,55047,55047,55047,55047,55047,55047,55047,55047,55047]]\n",
       "volume: [[2.055,0.005,0,17.631,0,1.069,0,0,0.886,0,...,0,0,0,0,0,0,0,0,0,0]]\n",
       "quote_asset_volume: [[135472.98,1499.985,0,694642.94,0,63300.836,0,0,50008.27,0,...,0,0,0,0,0,0,0,0,0,0]]\n",
       "number_of_trades: [[2,1,0,8,0,1,0,0,2,0,...,0,0,0,0,0,0,0,0,0,0]]\n",
       "taker_buy_base_asset_volume: [[2.055,0.005,0,0,0,1.069,0,0,0,0,...,0,0,0,0,0,0,0,0,0,0]]\n",
       "taker_buy_quote_asset_volume: [[135472.98,1499.985,0,0,0,63300.836,0,0,0,0,...,0,0,0,0,0,0,0,0,0,0]]"
      ]
     },
     "execution_count": 16,
     "metadata": {},
     "output_type": "execute_result"
    }
   ],
   "source": [
    "read_table"
   ]
  },
  {
   "cell_type": "markdown",
   "id": "97d788b4-19ec-4a40-bca8-47ddf698a2f2",
   "metadata": {},
   "source": [
    "# Conclusion\n",
    "\n",
    "All data comes to about 1800 symbol pairs comes together to about 30 to 40 GB of parquet file data. The same amount of data could be double or triple if stored using some other format.\n",
    "\n",
    "The data is easily managed and split between symbol pairs with the same kind of metadata which can also be eaisly modified or cast into a different form. No need to normalize data by much.\n",
    "\n",
    "Other type of data like twitter mentions or types of trending data can be added in the future but going through twitter or google data might"
   ]
  },
  {
   "cell_type": "code",
   "execution_count": null,
   "id": "a7c88f8c-bf38-44fe-946a-7938fede70e2",
   "metadata": {},
   "outputs": [],
   "source": []
  }
 ],
 "metadata": {
  "kernelspec": {
   "display_name": "Python 3 (ipykernel)",
   "language": "python",
   "name": "python3"
  },
  "language_info": {
   "codemirror_mode": {
    "name": "ipython",
    "version": 3
   },
   "file_extension": ".py",
   "mimetype": "text/x-python",
   "name": "python",
   "nbconvert_exporter": "python",
   "pygments_lexer": "ipython3",
   "version": "3.10.0"
  }
 },
 "nbformat": 4,
 "nbformat_minor": 5
}
